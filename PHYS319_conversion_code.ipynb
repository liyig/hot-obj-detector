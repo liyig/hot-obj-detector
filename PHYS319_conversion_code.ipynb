{
 "cells": [
  {
   "cell_type": "code",
   "execution_count": 1,
   "metadata": {},
   "outputs": [],
   "source": [
    "from cs103 import *\n",
    "from typing import *\n",
    "\n",
    "def convert_num_to_col(size: int, n: int) -> Image:\n",
    "    \"\"\"\n",
    "    Converts a number into a square of the appropriate color\n",
    "    Variation of colors: white, red, orange, yellow, green, cyan, blue, darkblue, purple, black\n",
    "    Note: n should be in the range of (0, 255)\n",
    "    \"\"\"\n",
    "    step = 25\n",
    "    if (n < step):\n",
    "        return square(size, \"solid\", \"black\")\n",
    "    elif (n < step * 2):\n",
    "        return square(size, \"solid\", \"purple\")\n",
    "    elif (n < step * 3):\n",
    "        return square(size, \"solid\", \"darkblue\")\n",
    "    elif (n < step * 4):\n",
    "        return square(size, \"solid\", \"blue\")\n",
    "    elif (n < step * 5):\n",
    "        return square(size, \"solid\", \"cyan\")\n",
    "    elif (n < step * 6):\n",
    "        return square(size, \"solid\", \"lightgreen\")\n",
    "    elif (n < step * 7):\n",
    "        return square(size, \"solid\", \"yellow\")\n",
    "    elif (n < step * 8):\n",
    "        return square(size, \"solid\", \"orange\")\n",
    "    elif (n < step * 9):\n",
    "        return square(size, \"solid\", \"red\")\n",
    "    else:\n",
    "        return square(size, \"solid\", \"white\")\n",
    "    \n",
    "\n",
    "def main(size: int, lon: List[int]) -> Image:\n",
    "    \"\"\"\n",
    "    Takes in a list of 32 * 24 ints, converts it into an Image\n",
    "    \"\"\"\n",
    "    #return square(10, \"solid\", \"white\")\n",
    "    row = 1\n",
    "    acc = square(size, \"solid\", \"white\")\n",
    "    one_row = square(size, \"solid\", \"white\")\n",
    "    for i in range(0, len(lon)):\n",
    "        if (i < 32 * row):\n",
    "            one_row = beside(one_row, convert_num_to_col(size, lon[i]))\n",
    "        if (i == (32 * row)-1): # prep or next row\n",
    "            acc = above(acc, one_row)\n",
    "            row = row + 1\n",
    "            one_row = square(size, \"solid\", \"white\") # reset row accumultor\n",
    "\n",
    "    return acc"
   ]
  },
  {
   "cell_type": "code",
   "execution_count": 30,
   "metadata": {},
   "outputs": [],
   "source": [
    "def create_arr(positions: List[int]):\n",
    "    \"\"\"\n",
    "    Takes in a list of ints corresponding to the position of the hot object\n",
    "    Returns an Image of the hot object (immitating an infrared camera)\n",
    "    Note: This takes into consideration of the smoothing out effect\n",
    "    \"\"\"\n",
    "    acc = [] \n",
    "    for i in range(0, 32*24):\n",
    "        if (i in positions): # hot objects\n",
    "            acc.append(250)\n",
    "        #elif (i+1 in positions or i-1 in positions):\n",
    "        elif (i+1 in positions or i-1 in positions \n",
    "              or (i > 32 and (i-32) in positions) or (i < 32*23 and (i+32) in positions)):\n",
    "            acc.append(220)\n",
    "        #elif (i+2 in positions or i-2 in positions):\n",
    "        elif (i+2 in positions or i-2 in positions \n",
    "              or (i > 32 and i-31 in positions) or (i < 32*23 and i+31 in positions)\n",
    "              or (i > 32 and i-33 in positions) or (i < 32*23 and i+33 in positions)\n",
    "              or (i > 64 and i-64 in positions) or (i < 32*22 and i+64 in positions)):\n",
    "            acc.append(190)\n",
    "        elif (i+3 in positions or i-3 in positions \n",
    "              or (i > 32 and i-30 in positions) or (i < 32*23 and i+30 in positions)\n",
    "              or (i > 32 and i-34 in positions) or (i < 32*23 and i+34 in positions)):\n",
    "            acc.append(140)\n",
    "        elif (i+4 in positions or i-4 in positions):\n",
    "            acc.append(120)\n",
    "        elif (i+5 in positions or i-5 in positions):\n",
    "            acc.append(50)\n",
    "        else:\n",
    "            acc.append(0)\n",
    "        \n",
    "            \n",
    "    return acc"
   ]
  },
  {
   "cell_type": "code",
   "execution_count": 39,
   "metadata": {},
   "outputs": [
    {
     "data": {
      "text/plain": [
       "<cs103.image.image.above object at 0x7f72079b0978>"
      ]
     },
     "execution_count": 39,
     "metadata": {},
     "output_type": "execute_result"
    },
    {
     "data": {
      "image/png": "[encoded data removed]",
      "text/plain": [
       "<Figure size 247.5x187.5 with 1 Axes>"
      ]
     },
     "metadata": {
      "needs_background": "light"
     },
     "output_type": "display_data"
    }
   ],
   "source": [
    "horizontal = 5\n",
    "vertical_step = 4\n",
    "vertical = vertical_step*32\n",
    "\n",
    "arr_input = [16+vertical-horizontal, 48+vertical-horizontal, 79+vertical-horizontal,\n",
    "                     110+vertical-horizontal, 141+vertical-horizontal]\n",
    "main(10, create_arr(arr_input))\n",
    "\n",
    "#main(20, create_arr([368]))\n",
    "\n",
    "#create_arr(arr_input)\n",
    "\n",
    "#arr_input\n",
    "\n"
   ]
  },
  {
   "cell_type": "code",
   "execution_count": 34,
   "metadata": {},
   "outputs": [
    {
     "data": {
      "text/plain": [
       "<cs103.image.image.above object at 0x7f72075c9128>"
      ]
     },
     "execution_count": 34,
     "metadata": {},
     "output_type": "execute_result"
    },
    {
     "data": {
      "image/png": "[encoded data removed]",
      "text/plain": [
       "<Figure size 247.5x187.5 with 1 Axes>"
      ]
     },
     "metadata": {
      "needs_background": "light"
     },
     "output_type": "display_data"
    }
   ],
   "source": [
    "# For comparing against array created by the C code\n",
    "# ========================== From main.c ==========================\n",
    "# int position[5] = {139, 171, 202, 233, 264}; // THIS IS INPUT! \n",
    "# int acc[768];\n",
    "# for (int a = 0; a < 768; a++ ) {\n",
    "#    acc[a] = 0;\n",
    "#    for (int i = 0; i < sizeof(position) / sizeof(position[0]); i++) {\n",
    "#        if (position[i] == a) {\n",
    "#            acc[a] = 250;\n",
    "#            break;\n",
    "#        }\n",
    "#        else if (a + 1 == position[i] || a - 1 == position[i]) {\n",
    "#            acc[a] = 220;\n",
    "#            break;\n",
    "#        }\n",
    "#        else if (a + 2 == position[i] || a - 2 == position[i]) {\n",
    "#            acc[a] = 190;\n",
    "#            break;\n",
    "#        }\n",
    "#        else if (a + 3 == position[i] || a - 3 == position[i]) {\n",
    "#            acc[a] = 140;\n",
    "#            break;\n",
    "#        }\n",
    "#        else if (a + 4 == position[i] || a - 4 == position[i]) {\n",
    "#            acc[a] = 120;\n",
    "#            break;\n",
    "#        }\n",
    "#        else if (a + 5 == position[i] || a - 5 == position[i]) {\n",
    "#            acc[a] = 50;\n",
    "#            break;\n",
    "#        }\n",
    "#    }\n",
    "\n",
    "# }\n",
    "\n",
    "main(10, [0, 0, 0, 0, 0, 0, 0, 0, 0, 0, 0, 0, 0, 0, 0, 0, 0, 0, 0, 0, 0, 0, 0, 0, 0, 0, 0, 0, 0, 0, 0, 0, 0, 0, 0, 0, 0, 0, 0, 0, 0, 0, 0, 0, 0, 0, 0, 0, 0, 0, 0, 0, 0, 0, 0, 0, 0, 0, 0, 0, 0, 0, 0, 0, 0, 0, 0, 0, 0, 0, 0, 0, 0, 0, 0, 0, 0, 0, 0, 0, 0, 0, 0, 0, 0, 0, 0, 0, 0, 0, 0, 0, 0, 0, 0, 0, 0, 0, 0, 0, 0, 0, 0, 0, 0, 0, 0, 0, 0, 0, 0, 0, 0, 0, 0, 0, 0, 0, 0, 0, 0, 0, 0, 0, 0, 0, 0, 0, 0, 0, 0, 0, 0, 0, 50, 120, 140, 190, 220, 250, 220, 190, 140, 120, 50, 0, 0, 0, 0, 0, 0, 0, 0, 0, 0, 0, 0, 0, 0, 0, 0, 0, 0, 0, 0, 0, 50, 120, 140, 190, 220, 250, 220, 190, 140, 120, 50, 0, 0, 0, 0, 0, 0, 0, 0, 0, 0, 0, 0, 0, 0, 0, 0, 0, 0, 0, 0, 50, 120, 140, 190, 220, 250, 220, 190, 140, 120, 50, 0, 0, 0, 0, 0, 0, 0, 0, 0, 0, 0, 0, 0, 0, 0, 0, 0, 0, 0, 0, 50, 120, 140, 190, 220, 250, 220, 190, 140, 120, 50, 0, 0, 0, 0, 0, 0, 0, 0, 0, 0, 0, 0, 0, 0, 0, 0, 0, 0, 0, 0, 50, 120, 140, 190, 220, 250, 220, 190, 140, 120, 50, 0, 0, 0, 0, 0, 0, 0, 0, 0, 0, 0, 0, 0, 0, 0 , 0, 0, 0, 0, 0, 0, 0, 0, 0, 0, 0, 0, 0, 0, 0, 0, 0, 0, 0, 0, 0, 0, 0, 0, 0, 0, 0, 0, 0, 0, 0, 0, 0, 0, 0, 0, 0, 0, 0, 0, 0, 0, 0, 0, 0, 0, 0, 0, 0, 0, 0, 0, 0 , 0, 0, 0, 0, 0, 0, 0, 0, 0, 0, 0, 0, 0, 0, 0, 0, 0, 0, 0, 0, 0, 0, 0, 0, 0, 0, 0, 0, 0, 0, 0, 0, 0, 0, 0, 0, 0, 0, 0, 0, 0, 0, 0, 0, 0, 0, 0, 0, 0, 0, 0, 0, 0 , 0, 0, 0, 0, 0, 0, 0, 0, 0, 0, 0, 0, 0, 0, 0, 0, 0, 0, 0, 0, 0, 0, 0, 0, 0, 0, 0, 0, 0, 0, 0, 0, 0, 0, 0, 0, 0, 0, 0, 0, 0, 0, 0, 0, 0, 0, 0, 0, 0, 0, 0, 0, 0 , 0, 0, 0, 0, 0, 0, 0, 0, 0, 0, 0, 0, 0, 0, 0, 0, 0, 0, 0, 0, 0, 0, 0, 0, 0, 0, 0, 0, 0, 0, 0, 0, 0, 0, 0, 0, 0, 0, 0, 0, 0, 0, 0, 0, 0, 0, 0, 0, 0, 0, 0, 0, 0 , 0, 0, 0, 0, 0, 0, 0, 0, 0, 0, 0, 0, 0, 0, 0, 0, 0, 0, 0, 0, 0, 0, 0, 0, 0, 0, 0, 0, 0, 0, 0, 0, 0, 0, 0, 0, 0, 0, 0, 0, 0, 0, 0, 0, 0, 0, 0, 0, 0, 0, 0, 0, 0 , 0, 0, 0, 0, 0, 0, 0, 0, 0, 0, 0, 0, 0, 0, 0, 0, 0, 0, 0, 0, 0, 0, 0, 0, 0, 0, 0, 0, 0, 0, 0, 0, 0, 0, 0, 0, 0, 0, 0, 0, 0, 0, 0, 0, 0, 0, 0, 0, 0, 0, 0, 0, 0 , 0, 0, 0, 0, 0, 0, 0, 0, 0, 0, 0, 0, 0, 0, 0, 0, 0, 0, 0, 0, 0, 0, 0, 0, 0, 0, 0, 0, 0, 0, 0, 0, 0, 0, 0, 0, 0, 0, 0, 0, 0, 0, 0, 0, 0, 0, 0, 0, 0, 0, 0, 0, 0 , 0, 0, 0, 0, 0, 0, 0, 0, 0, 0, 0, 0, 0, 0, 0, 0, 0, 0, 0, 0, 0, 0, 0, 0, 0, 0, 0, 0, 0, 0, 0, 0, 0, 0, 0, 0, 0, 0, 0, 0, 0, 0, 0, 0, 0, 0, 0, 0, 0, 0, 0, 0, 0 , 0, 0, 0, 0, 0, 0, 0, 0, 0, 0, 0, 0, 0, 0, 0, 0, 0, 0, 0, 0, 0, 0, 0, 0, 0, 0, 0, 0, 0, 0, 0, 0, 0, 0, 0, 0, 0, 0, 0, 0, 0, 0, 0, 0, 0, 0, 0, 0, 0, 0, 0, 0, 0 , 0, 0, 0, 0, 0, 0])"
   ]
  },
  {
   "cell_type": "code",
   "execution_count": null,
   "metadata": {},
   "outputs": [],
   "source": [
    "def hotRegion(array: List[int]):\n",
    "    \"\"\"\n",
    "    Takes in an array of (32 * 24) ints\n",
    "    Split up the matric into 3 sections, (1) RIGHT: column 1-11, (2) MIDDLE: column 12- 21 (2) LEFT: column 22-32\n",
    "    Return 1 if RIGHT is hottest, -1 if LEFT is hottest, 0 if MIDDLE is hottest\n",
    "    \"\"\"\n",
    "    right = 0\n",
    "    left = 0\n",
    "    middle = 0\n",
    "    "
   ]
  }
 ],
 "metadata": {
  "kernelspec": {
   "display_name": "Python 3",
   "language": "python",
   "name": "python3"
  },
  "language_info": {
   "codemirror_mode": {
    "name": "ipython",
    "version": 3
   },
   "file_extension": ".py",
   "mimetype": "text/x-python",
   "name": "python",
   "nbconvert_exporter": "python",
   "pygments_lexer": "ipython3",
   "version": "3.6.8"
  }
 },
 "nbformat": 4,
 "nbformat_minor": 2
}
