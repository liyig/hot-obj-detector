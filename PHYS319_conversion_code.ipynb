{
 "cells": [
  {
   "cell_type": "code",
   "execution_count": 2,
   "metadata": {},
   "outputs": [],
   "source": [
    "from cs103 import *\n",
    "from typing import *\n",
    "import numpy as np\n",
    "\n",
    "def convert_num_to_col(size: int, n: int) -> Image:\n",
    "    \"\"\"\n",
    "    Converts a number into a square of the appropriate color\n",
    "    Variation of colors: white, red, orange, yellow, green, cyan, blue, darkblue, purple, black\n",
    "    Note: n should be in the range of (0, 255)\n",
    "    \"\"\"\n",
    "    step = 25\n",
    "    if (n < step):\n",
    "        return square(size, \"solid\", \"black\")\n",
    "    elif (n < step * 2):\n",
    "        return square(size, \"solid\", \"purple\")\n",
    "    elif (n < step * 3):\n",
    "        return square(size, \"solid\", \"darkblue\")\n",
    "    elif (n < step * 4):\n",
    "        return square(size, \"solid\", \"blue\")\n",
    "    elif (n < step * 5):\n",
    "        return square(size, \"solid\", \"cyan\")\n",
    "    elif (n < step * 6):\n",
    "        return square(size, \"solid\", \"lightgreen\")\n",
    "    elif (n < step * 7):\n",
    "        return square(size, \"solid\", \"yellow\")\n",
    "    elif (n < step * 8):\n",
    "        return square(size, \"solid\", \"orange\")\n",
    "    elif (n < step * 9):\n",
    "        return square(size, \"solid\", \"red\")\n",
    "    else:\n",
    "        return square(size, \"solid\", \"white\")\n",
    "    \n",
    "\n",
    "def main(lon: List[int]) -> Image:\n",
    "    \"\"\"\n",
    "    Takes in a list of 32 * 24 ints, converts it into an Image\n",
    "    \"\"\"\n",
    "    size = 10 # CHANGE SCALE OF IMAGE HERE\n",
    "    row = 1\n",
    "    acc = square(size, \"solid\", \"white\")\n",
    "    one_row = square(size, \"solid\", \"white\")\n",
    "    for i in range(0, len(lon)):\n",
    "        if (i < 32 * row):\n",
    "            one_row = beside(one_row, convert_num_to_col(size, lon[i]))\n",
    "        if (i == (32 * row)-1): # prep or next row\n",
    "            acc = above(acc, one_row)\n",
    "            row = row + 1\n",
    "            one_row = square(size, \"solid\", \"white\") # reset row accumultor\n",
    "\n",
    "    return acc"
   ]
  },
  {
   "cell_type": "code",
   "execution_count": 3,
   "metadata": {},
   "outputs": [],
   "source": [
    "def create_arr(positions: List[int]):\n",
    "    \"\"\"\n",
    "    Takes in a list of ints corresponding to the position of the hot object\n",
    "    Returns an Image of the hot object (immitating an infrared camera)\n",
    "    Note: This takes into consideration of the smoothing out effect\n",
    "    \"\"\"\n",
    "    acc = [] \n",
    "    for i in range(0, 32*24):\n",
    "        if (i in positions): # hot objects\n",
    "            acc.append(250)\n",
    "        #elif (i+1 in positions or i-1 in positions):\n",
    "        elif (i+1 in positions or i-1 in positions \n",
    "              or (i > 32 and (i-32) in positions) or (i < 32*23 and (i+32) in positions)):\n",
    "            acc.append(220)\n",
    "        #elif (i+2 in positions or i-2 in positions):\n",
    "        elif (i+2 in positions or i-2 in positions \n",
    "              or (i > 32 and i-31 in positions) or (i < 32*23 and i+31 in positions)\n",
    "              or (i > 32 and i-33 in positions) or (i < 32*23 and i+33 in positions)\n",
    "              or (i > 64 and i-64 in positions) or (i < 32*22 and i+64 in positions)):\n",
    "            acc.append(190)\n",
    "        elif (i+3 in positions or i-3 in positions \n",
    "              or (i > 32 and i-30 in positions) or (i < 32*23 and i+30 in positions)\n",
    "              or (i > 32 and i-34 in positions) or (i < 32*23 and i+34 in positions)):\n",
    "            acc.append(140)\n",
    "        elif (i+4 in positions or i-4 in positions):\n",
    "            acc.append(120)\n",
    "        elif (i+5 in positions or i-5 in positions):\n",
    "            acc.append(50)\n",
    "        else:\n",
    "            acc.append(0)\n",
    "        \n",
    "            \n",
    "    return acc"
   ]
  },
  {
   "cell_type": "code",
   "execution_count": 4,
   "metadata": {},
   "outputs": [],
   "source": [
    "def create_arr_c(positions: List[int]):\n",
    "    \"\"\"\n",
    "    Takes in a list of ints corresponding to the position of the hot object\n",
    "    Returns an Image of the hot object (immitating an infrared camera)\n",
    "    Note: This takes into consideration of the smoothing out effect\n",
    "    \"\"\"\n",
    "    acc = [] \n",
    "    for i in range(0, 32*24):\n",
    "        if (i in positions): # hot objects\n",
    "            acc.append(250)\n",
    "        #elif (i+1 in positions or i-1 in positions):\n",
    "        elif (i+1 in positions or i-1 in positions):\n",
    "            acc.append(220)\n",
    "        #elif (i+2 in positions or i-2 in positions):\n",
    "        elif (i+2 in positions or i-2 in positions):\n",
    "            acc.append(190)\n",
    "        elif (i+3 in positions or i-3 in positions):\n",
    "            acc.append(140)\n",
    "        elif (i+4 in positions or i-4 in positions):\n",
    "            acc.append(120)\n",
    "        elif (i+5 in positions or i-5 in positions):\n",
    "            acc.append(50)\n",
    "        else:\n",
    "            acc.append(0)\n",
    "        \n",
    "            \n",
    "    return acc"
   ]
  },
  {
   "cell_type": "code",
   "execution_count": 5,
   "metadata": {},
   "outputs": [
    {
     "data": {
      "text/plain": [
       "<cs103.image.image.above object at 0x7fd51c9b17f0>"
      ]
     },
     "execution_count": 5,
     "metadata": {},
     "output_type": "execute_result"
    },
    {
     "data": {
      "image/png": "[encoded data removed]",
      "text/plain": [
       "<Figure size 247.5x187.5 with 1 Axes>"
      ]
     },
     "metadata": {
      "needs_background": "light"
     },
     "output_type": "display_data"
    }
   ],
   "source": [
    "horizontal = 5\n",
    "vertical_step = 4\n",
    "vertical = vertical_step*32\n",
    "\n",
    "arr_input = [16+vertical-horizontal, 48+vertical-horizontal, 79+vertical-horizontal,\n",
    "                     110+vertical-horizontal, 141+vertical-horizontal]\n",
    "main(create_arr(arr_input))\n",
    "\n",
    "#main(20, create_arr([368]))\n",
    "\n",
    "#create_arr(arr_input)\n",
    "\n",
    "#arr_input"
   ]
  },
  {
   "cell_type": "code",
   "execution_count": 6,
   "metadata": {},
   "outputs": [],
   "source": [
    "\n",
    "LEFT_OBJ = create_arr([325, 326, 357, 358])\n",
    "SLIGHTLY_LEFT_OBJ = create_arr([330, 331, 362, 363])\n",
    "MID_OBJ = create_arr([335, 336, 367, 368])\n",
    "SLIGHTLY_RIGHT_OBJ = create_arr([340, 341, 372, 373])\n",
    "RIGHT_OBJ = create_arr([345, 346, 377, 378])\n",
    "\n",
    "LEFT_OBJ_C = create_arr_c([325, 326, 357, 358])\n",
    "SLIGHTLY_LEFT_OBJ_C = create_arr([330, 331, 362, 363])\n",
    "MID_OBJ_C = create_arr_c([335, 336, 367, 368])\n",
    "SLIGHTLY_RIGHT_OBJ_C = create_arr_c([341, 342, 373, 374])\n",
    "RIGHT_OBJ_C = create_arr_c([345, 346, 377, 378])\n"
   ]
  },
  {
   "cell_type": "code",
   "execution_count": 7,
   "metadata": {},
   "outputs": [],
   "source": [
    "# For comparing against array created by the C code\n",
    "# ========================== From main.c ==========================\n",
    "# int position[5] = {139, 171, 202, 233, 264}; // THIS IS INPUT! \n",
    "# int acc[768];\n",
    "# for (int a = 0; a < 768; a++ ) {\n",
    "#    acc[a] = 0;\n",
    "#    for (int i = 0; i < sizeof(position) / sizeof(position[0]); i++) {\n",
    "#        if (position[i] == a) {\n",
    "#            acc[a] = 250;\n",
    "#            break;\n",
    "#        }\n",
    "#        else if (a + 1 == position[i] || a - 1 == position[i]) {\n",
    "#            acc[a] = 220;\n",
    "#            break;\n",
    "#        }\n",
    "#        else if (a + 2 == position[i] || a - 2 == position[i]) {\n",
    "#            acc[a] = 190;\n",
    "#            break;\n",
    "#        }\n",
    "#        else if (a + 3 == position[i] || a - 3 == position[i]) {\n",
    "#            acc[a] = 140;\n",
    "#            break;\n",
    "#        }\n",
    "#        else if (a + 4 == position[i] || a - 4 == position[i]) {\n",
    "#            acc[a] = 120;\n",
    "#            break;\n",
    "#        }\n",
    "#        else if (a + 5 == position[i] || a - 5 == position[i]) {\n",
    "#            acc[a] = 50;\n",
    "#            break;\n",
    "#        }\n",
    "#    }\n",
    "\n",
    "# }\n",
    "\n",
    "#draw(main([0, 0, 0, 0, 0, 0, 0, 0, 0, 0, 0, 0, 0, 0, 0, 0, 0, 0, 0, 0, 0, 0, 0, 0, 0, 0, 0, 0, 0, 0, 0, 0, 0, 0, 0, 0, 0, 0, 0, 0, 0, 0, 0, 0, 0, 0, 0, 0, 0, 0, 0, 0, 0, 0, 0, 0, 0, 0, 0, 0, 0, 0, 0, 0, 0, 0, 0, 0, 0, 0, 0, 0, 0, 0, 0, 0, 0, 0, 0, 0, 0, 0, 0, 0, 0, 0, 0, 0, 0, 0, 0, 0, 0, 0, 0, 0, 0, 0, 0, 0, 0, 0, 0, 0, 0, 0, 0, 0, 0, 0, 0, 0, 0, 0, 0, 0, 0, 0, 0, 0, 0, 0, 0, 0, 0, 0, 0, 0, 0, 0, 0, 0, 0, 0, 50, 120, 140, 190, 220, 250, 220, 190, 140, 120, 50, 0, 0, 0, 0, 0, 0, 0, 0, 0, 0, 0, 0, 0, 0, 0, 0, 0, 0, 0, 0, 0, 50, 120, 140, 190, 220, 250, 220, 190, 140, 120, 50, 0, 0, 0, 0, 0, 0, 0, 0, 0, 0, 0, 0, 0, 0, 0, 0, 0, 0, 0, 0, 50, 120, 140, 190, 220, 250, 220, 190, 140, 120, 50, 0, 0, 0, 0, 0, 0, 0, 0, 0, 0, 0, 0, 0, 0, 0, 0, 0, 0, 0, 0, 50, 120, 140, 190, 220, 250, 220, 190, 140, 120, 50, 0, 0, 0, 0, 0, 0, 0, 0, 0, 0, 0, 0, 0, 0, 0, 0, 0, 0, 0, 0, 50, 120, 140, 190, 220, 250, 220, 190, 140, 120, 50, 0, 0, 0, 0, 0, 0, 0, 0, 0, 0, 0, 0, 0, 0, 0 , 0, 0, 0, 0, 0, 0, 0, 0, 0, 0, 0, 0, 0, 0, 0, 0, 0, 0, 0, 0, 0, 0, 0, 0, 0, 0, 0, 0, 0, 0, 0, 0, 0, 0, 0, 0, 0, 0, 0, 0, 0, 0, 0, 0, 0, 0, 0, 0, 0, 0, 0, 0, 0 , 0, 0, 0, 0, 0, 0, 0, 0, 0, 0, 0, 0, 0, 0, 0, 0, 0, 0, 0, 0, 0, 0, 0, 0, 0, 0, 0, 0, 0, 0, 0, 0, 0, 0, 0, 0, 0, 0, 0, 0, 0, 0, 0, 0, 0, 0, 0, 0, 0, 0, 0, 0, 0 , 0, 0, 0, 0, 0, 0, 0, 0, 0, 0, 0, 0, 0, 0, 0, 0, 0, 0, 0, 0, 0, 0, 0, 0, 0, 0, 0, 0, 0, 0, 0, 0, 0, 0, 0, 0, 0, 0, 0, 0, 0, 0, 0, 0, 0, 0, 0, 0, 0, 0, 0, 0, 0 , 0, 0, 0, 0, 0, 0, 0, 0, 0, 0, 0, 0, 0, 0, 0, 0, 0, 0, 0, 0, 0, 0, 0, 0, 0, 0, 0, 0, 0, 0, 0, 0, 0, 0, 0, 0, 0, 0, 0, 0, 0, 0, 0, 0, 0, 0, 0, 0, 0, 0, 0, 0, 0 , 0, 0, 0, 0, 0, 0, 0, 0, 0, 0, 0, 0, 0, 0, 0, 0, 0, 0, 0, 0, 0, 0, 0, 0, 0, 0, 0, 0, 0, 0, 0, 0, 0, 0, 0, 0, 0, 0, 0, 0, 0, 0, 0, 0, 0, 0, 0, 0, 0, 0, 0, 0, 0 , 0, 0, 0, 0, 0, 0, 0, 0, 0, 0, 0, 0, 0, 0, 0, 0, 0, 0, 0, 0, 0, 0, 0, 0, 0, 0, 0, 0, 0, 0, 0, 0, 0, 0, 0, 0, 0, 0, 0, 0, 0, 0, 0, 0, 0, 0, 0, 0, 0, 0, 0, 0, 0 , 0, 0, 0, 0, 0, 0, 0, 0, 0, 0, 0, 0, 0, 0, 0, 0, 0, 0, 0, 0, 0, 0, 0, 0, 0, 0, 0, 0, 0, 0, 0, 0, 0, 0, 0, 0, 0, 0, 0, 0, 0, 0, 0, 0, 0, 0, 0, 0, 0, 0, 0, 0, 0 , 0, 0, 0, 0, 0, 0, 0, 0, 0, 0, 0, 0, 0, 0, 0, 0, 0, 0, 0, 0, 0, 0, 0, 0, 0, 0, 0, 0, 0, 0, 0, 0, 0, 0, 0, 0, 0, 0, 0, 0, 0, 0, 0, 0, 0, 0, 0, 0, 0, 0, 0, 0, 0 , 0, 0, 0, 0, 0, 0, 0, 0, 0, 0, 0, 0, 0, 0, 0, 0, 0, 0, 0, 0, 0, 0, 0, 0, 0, 0, 0, 0, 0, 0, 0, 0, 0, 0, 0, 0, 0, 0, 0, 0, 0, 0, 0, 0, 0, 0, 0, 0, 0, 0, 0, 0, 0 , 0, 0, 0, 0, 0, 0]))\n",
    "#draw(main(create_arr_c([139, 171, 202, 233, 264])))"
   ]
  },
  {
   "cell_type": "code",
   "execution_count": 8,
   "metadata": {},
   "outputs": [
    {
     "data": {
      "image/png": "[encoded data removed]",
      "text/plain": [
       "<Figure size 247.5x187.5 with 1 Axes>"
      ]
     },
     "metadata": {
      "needs_background": "light"
     },
     "output_type": "display_data"
    },
    {
     "data": {
      "image/png": "[encoded data removed]",
      "text/plain": [
       "<Figure size 247.5x187.5 with 1 Axes>"
      ]
     },
     "metadata": {
      "needs_background": "light"
     },
     "output_type": "display_data"
    },
    {
     "data": {
      "image/png": "[encoded data removed]",
      "text/plain": [
       "<Figure size 247.5x187.5 with 1 Axes>"
      ]
     },
     "metadata": {
      "needs_background": "light"
     },
     "output_type": "display_data"
    },
    {
     "data": {
      "image/png": "[encoded data removed]",
      "text/plain": [
       "<Figure size 247.5x187.5 with 1 Axes>"
      ]
     },
     "metadata": {
      "needs_background": "light"
     },
     "output_type": "display_data"
    },
    {
     "data": {
      "image/png": "[encoded data removed]",
      "text/plain": [
       "<Figure size 247.5x187.5 with 1 Axes>"
      ]
     },
     "metadata": {
      "needs_background": "light"
     },
     "output_type": "display_data"
    }
   ],
   "source": [
    "draw(main(LEFT_OBJ)) # a circular object close to left\n",
    "draw(main(SLIGHTLY_LEFT_OBJ)) # a circular object slightly on the left\n",
    "draw(main(MID_OBJ)) # a circular object in the middle\n",
    "draw(main(SLIGHTLY_RIGHT_OBJ))\n",
    "draw(main(RIGHT_OBJ))\n",
    "\n",
    "# ====== Visualization of array created by C code ======\n",
    "# draw(main(LEFT_OBJ_C)) # a circular object close to left\n",
    "# draw(main(SLIGHTLY_LEFT_OBJ_C)) # a circular object slightly on the left\n",
    "# draw(main(MID_OBJ_C)) # a circular object in the middle\n",
    "# draw(main(SLIGHTLY_RIGHT_OBJ_C))\n",
    "# draw(main(RIGHT_OBJ_C))"
   ]
  },
  {
   "cell_type": "code",
   "execution_count": 9,
   "metadata": {},
   "outputs": [],
   "source": [
    "def analyze(array: List[int]):\n",
    "    \"\"\"\n",
    "    Takes in an array of (32 * 24) ints\n",
    "    Split up the matric into 3 sections, (1) RIGHT: column 0-10, (2) MIDDLE: column 11- 20 (2) LEFT: column 21-31\n",
    "    Return 1 if RIGHT is hottest, -1 if LEFT is hottest, 0 if MIDDLE is hottest\n",
    "    CONSIDER how much to turn\n",
    "    \"\"\"       \n",
    "    num_row = int(len(array)/32) # Each row has 32 elements\n",
    "    row_counter = 0 # Track which row iteration is on\n",
    "    \n",
    "    right = 0  # accumulate sum of RIGHT section\n",
    "    left  = 0  # accumulate sum of MIDDLE section\n",
    "    mid   = 0  # accumulate sum of LEFT section\n",
    "    \n",
    "    for i in range(0, num_row):\n",
    "        start_left  =  0 + 32*row_counter # the start position of the LEFT section\n",
    "        start_mid   = 11 + 32*row_counter\n",
    "        start_right = 21 + 32*row_counter\n",
    "        end_right   = 32 + 32*row_counter\n",
    "        \n",
    "        left  += np.sum(array[start_left : start_mid])\n",
    "        mid   += np.sum(array[start_mid  : start_right])\n",
    "        right += np.sum(array[start_right: end_right])\n",
    "        \n",
    "        row_counter += 1\n",
    "        \n",
    "#     print(left)\n",
    "#     print(mid)\n",
    "#     print(right)\n",
    "#     print(\"================\") \n",
    "\n",
    "    if (left > mid and left > right):\n",
    "        return 0\n",
    "    elif (left == mid and left > right):\n",
    "        return 1\n",
    "    elif (mid > left and mid > right):\n",
    "        return 2\n",
    "    elif (right == mid and right > left):\n",
    "        return 3\n",
    "    elif (right > mid and right > left):\n",
    "        return 4\n",
    "    else: \n",
    "        return -1\n",
    "\n",
    "        \n",
    "        \n",
    "    \n",
    "\n",
    "# ===================================================||======================================||===============================\n",
    "# analyze([0, 0, 0, 0, 50, 120, 140, 190, 220, 250, 250, 220, 190, 140, 120, 50, 0, 0, 0, 0, 20, 0, 0, 0, 0, 0, 0, 0, 0, 0, 0, 0])\n",
    "# analyze([0, 0, 0, 0, 50, 120, 140, 190, 220, 250, 250, 220, 190, 140, 120, 50, 0, 0, 0, 0, 20, 0, 0, 0, 0, 0, 0, 0, 0, 0, 0, 0,\n",
    "#          0, 0, 0, 0, 50, 120, 140, 190, 220, 250, 250, 220, 190, 140, 120, 50, 0, 0, 0, 0, 20, 0, 0, 0, 0, 0, 0, 0, 0, 0, 0, 0])"
   ]
  },
  {
   "cell_type": "code",
   "execution_count": 10,
   "metadata": {},
   "outputs": [
    {
     "name": "stdout",
     "output_type": "stream",
     "text": [
      "0\n",
      "1\n",
      "2\n",
      "3\n",
      "4\n"
     ]
    }
   ],
   "source": [
    "print(analyze(LEFT_OBJ))\n",
    "print(analyze(SLIGHTLY_LEFT_OBJ))\n",
    "print(analyze(MID_OBJ))\n",
    "print(analyze(SLIGHTLY_RIGHT_OBJ))\n",
    "print(analyze(RIGHT_OBJ))"
   ]
  },
  {
   "cell_type": "code",
   "execution_count": 11,
   "metadata": {},
   "outputs": [
    {
     "data": {
      "text/plain": [
       "<cs103.image.image.above object at 0x7fd4d290be48>"
      ]
     },
     "execution_count": 11,
     "metadata": {},
     "output_type": "execute_result"
    },
    {
     "data": {
      "image/png": "[encoded data removed]",
      "text/plain": [
       "<Figure size 247.5x187.5 with 1 Axes>"
      ]
     },
     "metadata": {
      "needs_background": "light"
     },
     "output_type": "display_data"
    }
   ],
   "source": [
    "main(create_arr([325, 326, 357, 358]))"
   ]
  },
  {
   "cell_type": "code",
   "execution_count": 13,
   "metadata": {},
   "outputs": [
    {
     "data": {
      "text/plain": [
       "-1"
      ]
     },
     "execution_count": 13,
     "metadata": {},
     "output_type": "execute_result"
    }
   ],
   "source": [
    "analyze(create_arr([999, 999, 999, 999]))"
   ]
  },
  {
   "cell_type": "code",
   "execution_count": null,
   "metadata": {},
   "outputs": [],
   "source": []
  }
 ],
 "metadata": {
  "kernelspec": {
   "display_name": "Python 3",
   "language": "python",
   "name": "python3"
  },
  "language_info": {
   "codemirror_mode": {
    "name": "ipython",
    "version": 3
   },
   "file_extension": ".py",
   "mimetype": "text/x-python",
   "name": "python",
   "nbconvert_exporter": "python",
   "pygments_lexer": "ipython3",
   "version": "3.6.8"
  }
 },
 "nbformat": 4,
 "nbformat_minor": 2
}
